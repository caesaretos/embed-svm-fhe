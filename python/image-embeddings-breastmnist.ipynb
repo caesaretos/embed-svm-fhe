{
 "cells": [
  {
   "cell_type": "code",
   "execution_count": 706,
   "metadata": {},
   "outputs": [],
   "source": [
    "from tqdm import tqdm\n",
    "import numpy as np\n",
    "import torch\n",
    "import torch.nn as nn\n",
    "import torch.optim as optim\n",
    "import torch.utils.data as data\n",
    "import torchvision.transforms as transforms\n",
    "\n",
    "import medmnist\n",
    "from medmnist import INFO, Evaluator"
   ]
  },
  {
   "cell_type": "code",
   "execution_count": 707,
   "metadata": {},
   "outputs": [
    {
     "name": "stdout",
     "output_type": "stream",
     "text": [
      "MedMNIST v2.2.3 @ https://github.com/MedMNIST/MedMNIST/\n"
     ]
    }
   ],
   "source": [
    "print(f\"MedMNIST v{medmnist.__version__} @ {medmnist.HOMEPAGE}\")"
   ]
  },
  {
   "cell_type": "code",
   "execution_count": 708,
   "metadata": {},
   "outputs": [],
   "source": [
    "# data_flag = 'pathmnist'\n",
    "data_flag = 'breastmnist'\n",
    "download = True\n",
    "\n",
    "NUM_EPOCHS = 50\n",
    "BATCH_SIZE = 32\n",
    "lr = 0.001\n",
    "\n",
    "info = INFO[data_flag]\n",
    "task = info['task']\n",
    "n_channels = info['n_channels']\n",
    "n_classes = len(info['label'])\n",
    "\n",
    "DataClass = getattr(medmnist, info['python_class'])"
   ]
  },
  {
   "cell_type": "code",
   "execution_count": 709,
   "metadata": {},
   "outputs": [
    {
     "name": "stdout",
     "output_type": "stream",
     "text": [
      "Using downloaded and verified file: /home/caesar/.medmnist/breastmnist.npz\n",
      "Using downloaded and verified file: /home/caesar/.medmnist/breastmnist.npz\n",
      "Using downloaded and verified file: /home/caesar/.medmnist/breastmnist.npz\n"
     ]
    }
   ],
   "source": [
    "# preprocessing\n",
    "data_transform = transforms.Compose([\n",
    "    transforms.ToTensor(),\n",
    "    transforms.Normalize(mean=[.5], std=[.5])\n",
    "])\n",
    "\n",
    "# load the data\n",
    "train_dataset = DataClass(split='train', transform=data_transform, download=download)\n",
    "test_dataset = DataClass(split='test', transform=data_transform, download=download)\n",
    "\n",
    "pil_dataset = DataClass(split='train', download=download)"
   ]
  },
  {
   "cell_type": "code",
   "execution_count": 710,
   "metadata": {},
   "outputs": [
    {
     "name": "stdout",
     "output_type": "stream",
     "text": [
      "Dataset BreastMNIST (breastmnist)\n",
      "    Number of datapoints: 546\n",
      "    Root location: /home/caesar/.medmnist\n",
      "    Split: train\n",
      "    Task: binary-class\n",
      "    Number of channels: 1\n",
      "    Meaning of labels: {'0': 'malignant', '1': 'normal, benign'}\n",
      "    Number of samples: {'train': 546, 'val': 78, 'test': 156}\n",
      "    Description: The BreastMNIST is based on a dataset of 780 breast ultrasound images. It is categorized into 3 classes: normal, benign, and malignant. As we use low-resolution images, we simplify the task into binary classification by combining normal and benign as positive and classifying them against malignant as negative. We split the source dataset with a ratio of 7:1:2 into training, validation and test set. The source images of 1×500×500 are resized into 1×28×28.\n",
      "    License: CC BY 4.0\n"
     ]
    }
   ],
   "source": [
    "print(train_dataset)"
   ]
  },
  {
   "cell_type": "code",
   "execution_count": 711,
   "metadata": {},
   "outputs": [],
   "source": [
    "import keras\n",
    "from keras.datasets import mnist\n",
    "from keras.models import Sequential\n",
    "from keras.layers import Conv2D, MaxPooling2D, Flatten, Dense, Dropout\n",
    "\n",
    "EMBEDDING_LEN = 16\n",
    "\n",
    "# Load MNIST dataset\n",
    "(x_train, y_train) = (train_dataset.imgs, train_dataset.labels)\n",
    "(x_test, y_test) = (test_dataset.imgs, test_dataset.labels)"
   ]
  },
  {
   "cell_type": "code",
   "execution_count": 712,
   "metadata": {},
   "outputs": [
    {
     "name": "stdout",
     "output_type": "stream",
     "text": [
      "(546, 28, 28)\n",
      "(546, 1)\n"
     ]
    }
   ],
   "source": [
    "print(x_train.shape)\n",
    "print(y_train.shape)"
   ]
  },
  {
   "cell_type": "code",
   "execution_count": 713,
   "metadata": {},
   "outputs": [],
   "source": [
    "# Preprocess images\n",
    "x_train = x_train.reshape(-1, 28, 28, 1).astype('float32') / 255.0\n",
    "x_test = x_test.reshape(-1, 28, 28, 1).astype('float32') / 255.0\n",
    "\n",
    "# Get the user-specified embedding length\n",
    "embedding_length = EMBEDDING_LEN\n",
    "\n",
    "# Define a CNN model with variable embedding length\n",
    "# model = Sequential([\n",
    "#     Conv2D(32, (3, 3), activation='relu', input_shape=(28, 28, 1)),\n",
    "#     MaxPooling2D((2, 2)),\n",
    "#     Flatten(),\n",
    "#     Dense(embedding_length, activation='relu'),  # Embedding layer with variable length\n",
    "# ])  # Remove the final classification layer\n",
    "\n",
    "model = Sequential([\n",
    "    # Initial convolutional block\n",
    "    Conv2D(32, (3, 3), activation='relu', input_shape=(28, 28, 1)),\n",
    "    Conv2D(32, (3, 3), activation='relu'),\n",
    "    MaxPooling2D((2, 2)),\n",
    "\n",
    "    # Second convolutional block for deeper feature extraction\n",
    "    Conv2D(64, (3, 3), activation='relu'),\n",
    "    Conv2D(64, (3, 3), activation='relu'),\n",
    "    MaxPooling2D((2, 2)),\n",
    "\n",
    "    # Flatten and dense layers\n",
    "    Flatten(),\n",
    "    Dense(128, activation='relu'),\n",
    "    Dropout(0.5),  # Regularization to prevent overfitting\n",
    "    Dense(embedding_length, activation='relu')  # Variable-length embedding layer\n",
    "])"
   ]
  },
  {
   "cell_type": "code",
   "execution_count": 714,
   "metadata": {},
   "outputs": [],
   "source": [
    "# Compile the model (important for generating meaningful embeddings)\n",
    "model.compile(optimizer='adam', loss='categorical_crossentropy', metrics=['accuracy'])"
   ]
  },
  {
   "cell_type": "code",
   "execution_count": 715,
   "metadata": {},
   "outputs": [
    {
     "name": "stdout",
     "output_type": "stream",
     "text": [
      "18/18 [==============================] - 0s 7ms/step\n",
      "(546, 16)\n"
     ]
    }
   ],
   "source": [
    "# Extract embeddings for all images in the training set\n",
    "embeddings_train = model.predict(x_train)\n",
    "print(embeddings_train.shape)  # Output: (60000, embedding_length)"
   ]
  },
  {
   "cell_type": "code",
   "execution_count": 716,
   "metadata": {},
   "outputs": [
    {
     "name": "stdout",
     "output_type": "stream",
     "text": [
      "5/5 [==============================] - 0s 7ms/step\n",
      "(156, 16)\n"
     ]
    }
   ],
   "source": [
    "# Optionally, extract embeddings for test images\n",
    "embeddings_test = model.predict(x_test)\n",
    "print(embeddings_test.shape)  # Output: (10000, embedding_length)"
   ]
  },
  {
   "cell_type": "code",
   "execution_count": 717,
   "metadata": {},
   "outputs": [
    {
     "name": "stdout",
     "output_type": "stream",
     "text": [
      "(546, 28, 28, 1)\n",
      "(546, 1)\n",
      "(156, 28, 28, 1)\n",
      "(156, 1)\n"
     ]
    }
   ],
   "source": [
    "print(x_train.shape)\n",
    "print(y_train.shape)\n",
    "print(x_test.shape)\n",
    "print(y_test.shape)\n",
    "#(, y_train), (x_test, y_test)"
   ]
  },
  {
   "cell_type": "code",
   "execution_count": 718,
   "metadata": {},
   "outputs": [],
   "source": [
    "import numpy as np\n",
    "from sklearn.svm import SVC"
   ]
  },
  {
   "cell_type": "code",
   "execution_count": 719,
   "metadata": {},
   "outputs": [],
   "source": [
    "# Load your dataset (assuming it's in NumPy arrays)\n",
    "x_train = embeddings_train\n",
    "y_train = y_train\n",
    "x_test = embeddings_test\n",
    "y_test = y_test"
   ]
  },
  {
   "cell_type": "code",
   "execution_count": 720,
   "metadata": {},
   "outputs": [],
   "source": [
    "# Create an SVM classifier with a suitable kernel\n",
    "clf = SVC(kernel='rbf', C=1.0, gamma='scale')  # RBF kernel often works well"
   ]
  },
  {
   "cell_type": "code",
   "execution_count": 721,
   "metadata": {},
   "outputs": [
    {
     "data": {
      "text/html": [
       "<style>#sk-container-id-38 {color: black;}#sk-container-id-38 pre{padding: 0;}#sk-container-id-38 div.sk-toggleable {background-color: white;}#sk-container-id-38 label.sk-toggleable__label {cursor: pointer;display: block;width: 100%;margin-bottom: 0;padding: 0.3em;box-sizing: border-box;text-align: center;}#sk-container-id-38 label.sk-toggleable__label-arrow:before {content: \"▸\";float: left;margin-right: 0.25em;color: #696969;}#sk-container-id-38 label.sk-toggleable__label-arrow:hover:before {color: black;}#sk-container-id-38 div.sk-estimator:hover label.sk-toggleable__label-arrow:before {color: black;}#sk-container-id-38 div.sk-toggleable__content {max-height: 0;max-width: 0;overflow: hidden;text-align: left;background-color: #f0f8ff;}#sk-container-id-38 div.sk-toggleable__content pre {margin: 0.2em;color: black;border-radius: 0.25em;background-color: #f0f8ff;}#sk-container-id-38 input.sk-toggleable__control:checked~div.sk-toggleable__content {max-height: 200px;max-width: 100%;overflow: auto;}#sk-container-id-38 input.sk-toggleable__control:checked~label.sk-toggleable__label-arrow:before {content: \"▾\";}#sk-container-id-38 div.sk-estimator input.sk-toggleable__control:checked~label.sk-toggleable__label {background-color: #d4ebff;}#sk-container-id-38 div.sk-label input.sk-toggleable__control:checked~label.sk-toggleable__label {background-color: #d4ebff;}#sk-container-id-38 input.sk-hidden--visually {border: 0;clip: rect(1px 1px 1px 1px);clip: rect(1px, 1px, 1px, 1px);height: 1px;margin: -1px;overflow: hidden;padding: 0;position: absolute;width: 1px;}#sk-container-id-38 div.sk-estimator {font-family: monospace;background-color: #f0f8ff;border: 1px dotted black;border-radius: 0.25em;box-sizing: border-box;margin-bottom: 0.5em;}#sk-container-id-38 div.sk-estimator:hover {background-color: #d4ebff;}#sk-container-id-38 div.sk-parallel-item::after {content: \"\";width: 100%;border-bottom: 1px solid gray;flex-grow: 1;}#sk-container-id-38 div.sk-label:hover label.sk-toggleable__label {background-color: #d4ebff;}#sk-container-id-38 div.sk-serial::before {content: \"\";position: absolute;border-left: 1px solid gray;box-sizing: border-box;top: 0;bottom: 0;left: 50%;z-index: 0;}#sk-container-id-38 div.sk-serial {display: flex;flex-direction: column;align-items: center;background-color: white;padding-right: 0.2em;padding-left: 0.2em;position: relative;}#sk-container-id-38 div.sk-item {position: relative;z-index: 1;}#sk-container-id-38 div.sk-parallel {display: flex;align-items: stretch;justify-content: center;background-color: white;position: relative;}#sk-container-id-38 div.sk-item::before, #sk-container-id-38 div.sk-parallel-item::before {content: \"\";position: absolute;border-left: 1px solid gray;box-sizing: border-box;top: 0;bottom: 0;left: 50%;z-index: -1;}#sk-container-id-38 div.sk-parallel-item {display: flex;flex-direction: column;z-index: 1;position: relative;background-color: white;}#sk-container-id-38 div.sk-parallel-item:first-child::after {align-self: flex-end;width: 50%;}#sk-container-id-38 div.sk-parallel-item:last-child::after {align-self: flex-start;width: 50%;}#sk-container-id-38 div.sk-parallel-item:only-child::after {width: 0;}#sk-container-id-38 div.sk-dashed-wrapped {border: 1px dashed gray;margin: 0 0.4em 0.5em 0.4em;box-sizing: border-box;padding-bottom: 0.4em;background-color: white;}#sk-container-id-38 div.sk-label label {font-family: monospace;font-weight: bold;display: inline-block;line-height: 1.2em;}#sk-container-id-38 div.sk-label-container {text-align: center;}#sk-container-id-38 div.sk-container {/* jupyter's `normalize.less` sets `[hidden] { display: none; }` but bootstrap.min.css set `[hidden] { display: none !important; }` so we also need the `!important` here to be able to override the default hidden behavior on the sphinx rendered scikit-learn.org. See: https://github.com/scikit-learn/scikit-learn/issues/21755 */display: inline-block !important;position: relative;}#sk-container-id-38 div.sk-text-repr-fallback {display: none;}</style><div id=\"sk-container-id-38\" class=\"sk-top-container\"><div class=\"sk-text-repr-fallback\"><pre>SVC()</pre><b>In a Jupyter environment, please rerun this cell to show the HTML representation or trust the notebook. <br />On GitHub, the HTML representation is unable to render, please try loading this page with nbviewer.org.</b></div><div class=\"sk-container\" hidden><div class=\"sk-item\"><div class=\"sk-estimator sk-toggleable\"><input class=\"sk-toggleable__control sk-hidden--visually\" id=\"sk-estimator-id-38\" type=\"checkbox\" checked><label for=\"sk-estimator-id-38\" class=\"sk-toggleable__label sk-toggleable__label-arrow\">SVC</label><div class=\"sk-toggleable__content\"><pre>SVC()</pre></div></div></div></div></div>"
      ],
      "text/plain": [
       "SVC()"
      ]
     },
     "execution_count": 721,
     "metadata": {},
     "output_type": "execute_result"
    }
   ],
   "source": [
    "# Fit the classifier on the training data\n",
    "y_train = y_train.ravel()\n",
    "clf.fit(x_train, y_train)"
   ]
  },
  {
   "cell_type": "code",
   "execution_count": 722,
   "metadata": {},
   "outputs": [],
   "source": [
    "# Make predictions on the test data\n",
    "y_pred = clf.predict(x_test)"
   ]
  },
  {
   "cell_type": "code",
   "execution_count": 723,
   "metadata": {},
   "outputs": [
    {
     "name": "stdout",
     "output_type": "stream",
     "text": [
      "Accuracy: 0.7948717948717948\n"
     ]
    }
   ],
   "source": [
    "# Evaluate model performance\n",
    "y_test = y_test.ravel()\n",
    "accuracy = clf.score(x_test, y_test)\n",
    "print(\"Accuracy:\", accuracy)"
   ]
  },
  {
   "cell_type": "code",
   "execution_count": 724,
   "metadata": {},
   "outputs": [
    {
     "name": "stdout",
     "output_type": "stream",
     "text": [
      "              precision    recall  f1-score   support\n",
      "\n",
      "           0       0.86      0.29      0.43        42\n",
      "           1       0.79      0.98      0.88       114\n",
      "\n",
      "    accuracy                           0.79       156\n",
      "   macro avg       0.82      0.63      0.65       156\n",
      "weighted avg       0.81      0.79      0.75       156\n",
      "\n"
     ]
    },
    {
     "data": {
      "image/png": "[encoded data removed]",
      "text/plain": [
       "<Figure size 640x480 with 2 Axes>"
      ]
     },
     "metadata": {},
     "output_type": "display_data"
    }
   ],
   "source": [
    "import seaborn as sns\n",
    "from sklearn.metrics import classification_report, confusion_matrix\n",
    "\n",
    "cm = confusion_matrix(y_test,y_pred)\n",
    "sns.heatmap(cm, annot=True, fmt='d').set_title('Confusion matrix of linear SVM') # fmt='d' formats the numbers as digits, which means integers\n",
    "\n",
    "print(classification_report(y_test,y_pred))"
   ]
  },
  {
   "cell_type": "code",
   "execution_count": 727,
   "metadata": {},
   "outputs": [
    {
     "name": "stdout",
     "output_type": "stream",
     "text": [
      "              precision    recall  f1-score   support\n",
      "\n",
      "           0       0.69      0.26      0.38       147\n",
      "           1       0.78      0.96      0.86       399\n",
      "\n",
      "    accuracy                           0.77       546\n",
      "   macro avg       0.73      0.61      0.62       546\n",
      "weighted avg       0.75      0.77      0.73       546\n",
      "\n"
     ]
    },
    {
     "data": {
      "image/png": "[encoded data removed]",
      "text/plain": [
       "<Figure size 640x480 with 2 Axes>"
      ]
     },
     "metadata": {},
     "output_type": "display_data"
    }
   ],
   "source": [
    "y_pred_train = clf.predict(x_train)\n",
    "\n",
    "cm_train = confusion_matrix(y_train,y_pred_train)\n",
    "sns.heatmap(cm_train, annot=True, fmt='d').set_title('Confusion matrix of linear SVM with train data')\n",
    "\n",
    "print(classification_report(y_train,y_pred_train))"
   ]
  },
  {
   "cell_type": "code",
   "execution_count": 729,
   "metadata": {},
   "outputs": [
    {
     "name": "stdout",
     "output_type": "stream",
     "text": [
      "[145 154]\n"
     ]
    }
   ],
   "source": [
    "clf.get_params()\n",
    "print(clf.n_support_)"
   ]
  },
  {
   "cell_type": "code",
   "execution_count": 732,
   "metadata": {},
   "outputs": [
    {
     "name": "stdout",
     "output_type": "stream",
     "text": [
      "[-0.3900645   0.80630885  1.02181894  0.59796559  1.05688711  1.01430595\n",
      " -0.73524444  0.53809113  0.96996989  0.93714013  0.84823199 -0.6353894\n",
      "  0.30059443  0.39461706  0.90938349  1.07128239  1.08751203  1.12168135\n",
      "  1.23852762  0.22739734  0.2370772   0.99190803  1.17932579  0.28305878\n",
      "  0.52082989  0.05645932  0.88808596  1.24061077  1.20178522  1.01027988\n",
      "  0.89594034  1.12293873  1.30546215  1.14983572  1.01277353  0.96493147\n",
      "  0.92575186  1.04481566 -0.1067225   0.9393787   1.22447657  0.27342746\n",
      "  1.05295306  1.0652414   1.06589399  0.69776537  1.13208036  0.9932497\n",
      "  0.98296556  1.00439059  0.89618158  1.0544884   0.93025436  1.03728591\n",
      "  1.01730753 -0.67570286  1.1528981   0.97323115 -0.22510378  1.00892375\n",
      "  0.50906448  1.00403329  1.13658018  0.48027235  1.23341094  0.67724084\n",
      "  1.20894153  0.53102011  1.1135815   0.91299901  1.15080805  1.1662837\n",
      "  1.16359752  1.28000446  1.0064924   0.86437397 -0.90780619  0.67165139\n",
      "  0.62116391  1.18421218  1.02898713  0.21448288  0.99269643  1.07595917\n",
      "  1.1121268   0.97386746  1.08334352  1.09760317  1.07397234  0.28696976\n",
      "  1.21047541  0.98449275  0.93651162  0.81968347  1.03176215  0.91698438\n",
      "  1.22389008  1.14485886  1.29969808  1.20825183  0.3413249   1.0590067\n",
      "  1.07416314  1.16425963  0.92227592  1.24840659 -0.60192486  1.19897178\n",
      "  0.6819189   1.31402411 -0.47633896  0.91498168 -0.14281128  1.01348513\n",
      " -0.2008421   1.02236021  1.08896131  0.45195994  1.19892366  1.26923932\n",
      "  0.99463187  0.99425376  1.13896291  1.04344059  0.97833992  0.97521739\n",
      " -0.62612612  0.96790501  1.1328666   1.03226581  1.03194189  1.08196799\n",
      "  0.62821604  1.10713088  1.05563291  0.96837205  1.04407035  1.24164674\n",
      "  0.48576534  1.00627322  1.05093605  0.97017354  1.15829992 -0.62735749\n",
      "  0.92654185  1.06065239  0.79081117  1.12808938  1.20757832  1.48382494\n",
      " -0.08214297  1.05743627  1.21727994  0.53199404  0.20425243  1.06998509]\n"
     ]
    }
   ],
   "source": [
    "# get the actual output of SVM\n",
    "decision_function = clf.decision_function(x_test)\n",
    "print(decision_function)"
   ]
  },
  {
   "cell_type": "code",
   "execution_count": 751,
   "metadata": {},
   "outputs": [
    {
     "name": "stdout",
     "output_type": "stream",
     "text": [
      "svc.gamma:  scale\n",
      "svc.degree:  3\n"
     ]
    }
   ],
   "source": [
    "import numpy as np\n",
    "print(\"svc.gamma: \", clf.gamma)\n",
    "print(\"svc.degree: \", clf.degree)\n",
    "\n",
    "sv=open(\"../data-kernel-model-rbf/support_vectors_rbf.txt\",\"w\")\n",
    "dual_coeff=open(\"../data-kernel-model-rbf/dual_coeff_rbf.txt\",\"w\")\n",
    "intercept=open(\"../data-kernel-model-rbf/intercept_rbf.txt\",\"w\")\n",
    "xtestSample=\"../data-kernel-model-rbf/xtest_rbf.txt\"\n",
    "ytestSample=\"../data-kernel-model-rbf/ytest_rbf.txt\"\n",
    "ytestClassificationScore=\"../data-kernel-model-rbf/yclassificationscore.txt\"\n",
    "\n",
    "np.savetxt(sv,clf.support_vectors_)\n",
    "    \n",
    "np.savetxt(dual_coeff,clf.dual_coef_,delimiter=' ')\n",
    "np.savetxt(intercept,clf.intercept_,delimiter=' ')\n",
    "\n",
    "with open(xtestSample, \"w\") as f1:\n",
    "    for item in x_test[0]:  # Access the first row directly\n",
    "        f1.write(str(item) + \" \")\n",
    "        \n",
    "with open(ytestClassificationScore, \"w\") as f2:\n",
    "    f2.write(str(decision_function[0]))\n",
    "    \n",
    "with open(ytestSample, \"w\") as f3:\n",
    "    f3.write(str(y_test[0]))\n",
    "    \n",
    "sv.close()\n",
    "dual_coeff.close()\n",
    "intercept.close()\n",
    "f1.close()\n",
    "f2.close()\n",
    "f3.close()"
   ]
  }
 ],
 "metadata": {
  "kernelspec": {
   "display_name": "Python 3",
   "language": "python",
   "name": "python3"
  },
  "language_info": {
   "codemirror_mode": {
    "name": "ipython",
    "version": 3
   },
   "file_extension": ".py",
   "mimetype": "text/x-python",
   "name": "python",
   "nbconvert_exporter": "python",
   "pygments_lexer": "ipython3",
   "version": "3.10.12"
  }
 },
 "nbformat": 4,
 "nbformat_minor": 2
}
