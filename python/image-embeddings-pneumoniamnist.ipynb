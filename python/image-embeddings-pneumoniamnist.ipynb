{
 "cells": [
  {
   "cell_type": "code",
   "execution_count": 283,
   "metadata": {},
   "outputs": [],
   "source": [
    "from tqdm import tqdm\n",
    "import numpy as np\n",
    "import torch\n",
    "import torch.nn as nn\n",
    "import torch.optim as optim\n",
    "import torch.utils.data as data\n",
    "import torchvision.transforms as transforms\n",
    "\n",
    "import medmnist\n",
    "from medmnist import INFO, Evaluator"
   ]
  },
  {
   "cell_type": "code",
   "execution_count": 284,
   "metadata": {},
   "outputs": [
    {
     "name": "stdout",
     "output_type": "stream",
     "text": [
      "MedMNIST v2.2.3 @ https://github.com/MedMNIST/MedMNIST/\n"
     ]
    }
   ],
   "source": [
    "print(f\"MedMNIST v{medmnist.__version__} @ {medmnist.HOMEPAGE}\")"
   ]
  },
  {
   "cell_type": "code",
   "execution_count": 285,
   "metadata": {},
   "outputs": [],
   "source": [
    "data_flag = 'pneumoniamnist'\n",
    "#data_flag = 'pathmnist'\n",
    "#data_flag = 'breastmnist'\n",
    "download = True\n",
    "\n",
    "NUM_EPOCHS = 50\n",
    "BATCH_SIZE = 32\n",
    "lr = 0.001\n",
    "\n",
    "info = INFO[data_flag]\n",
    "task = info['task']\n",
    "n_channels = info['n_channels']\n",
    "n_classes = len(info['label'])\n",
    "\n",
    "DataClass = getattr(medmnist, info['python_class'])"
   ]
  },
  {
   "cell_type": "code",
   "execution_count": 286,
   "metadata": {},
   "outputs": [
    {
     "name": "stdout",
     "output_type": "stream",
     "text": [
      "Using downloaded and verified file: /home/caesar/.medmnist/pneumoniamnist.npz\n",
      "Using downloaded and verified file: /home/caesar/.medmnist/pneumoniamnist.npz\n",
      "Using downloaded and verified file: /home/caesar/.medmnist/pneumoniamnist.npz\n"
     ]
    }
   ],
   "source": [
    "# preprocessing\n",
    "data_transform = transforms.Compose([\n",
    "    transforms.ToTensor(),\n",
    "    transforms.Normalize(mean=[.5], std=[.5])\n",
    "])\n",
    "\n",
    "# load the data\n",
    "train_dataset = DataClass(split='train', transform=data_transform, download=download)\n",
    "test_dataset = DataClass(split='test', transform=data_transform, download=download)\n",
    "\n",
    "pil_dataset = DataClass(split='train', download=download)"
   ]
  },
  {
   "cell_type": "code",
   "execution_count": 287,
   "metadata": {},
   "outputs": [
    {
     "name": "stdout",
     "output_type": "stream",
     "text": [
      "Dataset PneumoniaMNIST (pneumoniamnist)\n",
      "    Number of datapoints: 4708\n",
      "    Root location: /home/caesar/.medmnist\n",
      "    Split: train\n",
      "    Task: binary-class\n",
      "    Number of channels: 1\n",
      "    Meaning of labels: {'0': 'normal', '1': 'pneumonia'}\n",
      "    Number of samples: {'train': 4708, 'val': 524, 'test': 624}\n",
      "    Description: The PneumoniaMNIST is based on a prior dataset of 5,856 pediatric chest X-Ray images. The task is binary-class classification of pneumonia against normal. We split the source training set with a ratio of 9:1 into training and validation set and use its source validation set as the test set. The source images are gray-scale, and their sizes are (384−2,916)×(127−2,713). We center-crop the images and resize them into 1×28×28.\n",
      "    License: CC BY 4.0\n"
     ]
    }
   ],
   "source": [
    "print(train_dataset)"
   ]
  },
  {
   "cell_type": "code",
   "execution_count": 288,
   "metadata": {},
   "outputs": [],
   "source": [
    "import keras\n",
    "from keras.datasets import mnist\n",
    "from keras.models import Sequential\n",
    "from keras.layers import Conv2D, MaxPooling2D, Flatten, Dense, Dropout\n",
    "\n",
    "EMBEDDING_LEN = 8\n",
    "\n",
    "# Load MNIST dataset\n",
    "(x_train, y_train) = (train_dataset.imgs, train_dataset.labels)\n",
    "(x_test, y_test) = (test_dataset.imgs, test_dataset.labels)"
   ]
  },
  {
   "cell_type": "code",
   "execution_count": 289,
   "metadata": {},
   "outputs": [
    {
     "name": "stdout",
     "output_type": "stream",
     "text": [
      "(4708, 28, 28)\n",
      "(4708, 1)\n"
     ]
    }
   ],
   "source": [
    "print(x_train.shape)\n",
    "print(y_train.shape)"
   ]
  },
  {
   "cell_type": "code",
   "execution_count": 290,
   "metadata": {},
   "outputs": [],
   "source": [
    "# Preprocess images\n",
    "x_train = x_train.reshape(-1, 28, 28, 1).astype('float32') / 255.0\n",
    "x_test = x_test.reshape(-1, 28, 28, 1).astype('float32') / 255.0\n",
    "\n",
    "# Get the user-specified embedding length\n",
    "embedding_length = EMBEDDING_LEN\n",
    "\n",
    "# Define a CNN model with variable embedding length\n",
    "# model = Sequential([\n",
    "#     Conv2D(32, (3, 3), activation='relu', input_shape=(28, 28, 1)),\n",
    "#     MaxPooling2D((2, 2)),\n",
    "#     Flatten(),\n",
    "#     Dense(embedding_length, activation='relu'),  # Embedding layer with variable length\n",
    "# ])  # Remove the final classification layer\n",
    "\n",
    "model = Sequential([\n",
    "    # Initial convolutional block\n",
    "    Conv2D(32, (3, 3), activation='relu', input_shape=(28, 28, 1)),\n",
    "    Conv2D(32, (3, 3), activation='relu'),\n",
    "    MaxPooling2D((2, 2)),\n",
    "\n",
    "    # Second convolutional block for deeper feature extraction\n",
    "    Conv2D(64, (3, 3), activation='relu'),\n",
    "    Conv2D(64, (3, 3), activation='relu'),\n",
    "    MaxPooling2D((2, 2)),\n",
    "\n",
    "    # Flatten and dense layers\n",
    "    Flatten(),\n",
    "    Dense(128, activation='relu'),\n",
    "    Dropout(0.5),  # Regularization to prevent overfitting\n",
    "    Dense(embedding_length, activation='relu')  # Variable-length embedding layer\n",
    "])"
   ]
  },
  {
   "cell_type": "code",
   "execution_count": 291,
   "metadata": {},
   "outputs": [],
   "source": [
    "# Compile the model (important for generating meaningful embeddings)\n",
    "model.compile(optimizer='adam', loss='categorical_crossentropy', metrics=['accuracy'])"
   ]
  },
  {
   "cell_type": "code",
   "execution_count": 292,
   "metadata": {},
   "outputs": [
    {
     "name": "stdout",
     "output_type": "stream",
     "text": [
      "148/148 [==============================] - 1s 5ms/step\n",
      "(4708, 8)\n"
     ]
    }
   ],
   "source": [
    "# Extract embeddings for all images in the training set\n",
    "embeddings_train = model.predict(x_train)\n",
    "print(embeddings_train.shape)  # Output: (60000, embedding_length)"
   ]
  },
  {
   "cell_type": "code",
   "execution_count": 293,
   "metadata": {},
   "outputs": [
    {
     "name": "stdout",
     "output_type": "stream",
     "text": [
      "20/20 [==============================] - 0s 2ms/step\n",
      "(624, 8)\n"
     ]
    }
   ],
   "source": [
    "# Optionally, extract embeddings for test images\n",
    "embeddings_test = model.predict(x_test)\n",
    "print(embeddings_test.shape)  # Output: (10000, embedding_length)"
   ]
  },
  {
   "cell_type": "code",
   "execution_count": 294,
   "metadata": {},
   "outputs": [
    {
     "name": "stdout",
     "output_type": "stream",
     "text": [
      "(4708, 28, 28, 1)\n",
      "(4708, 1)\n",
      "(624, 28, 28, 1)\n",
      "(624, 1)\n"
     ]
    }
   ],
   "source": [
    "print(x_train.shape)\n",
    "print(y_train.shape)\n",
    "print(x_test.shape)\n",
    "print(y_test.shape)\n",
    "#(, y_train), (x_test, y_test)"
   ]
  },
  {
   "cell_type": "code",
   "execution_count": 295,
   "metadata": {},
   "outputs": [],
   "source": [
    "import numpy as np\n",
    "from sklearn.svm import SVC"
   ]
  },
  {
   "cell_type": "code",
   "execution_count": 296,
   "metadata": {},
   "outputs": [],
   "source": [
    "# Load your dataset (assuming it's in NumPy arrays)\n",
    "x_train = embeddings_train\n",
    "y_train = y_train\n",
    "x_test = embeddings_test\n",
    "y_test = y_test"
   ]
  },
  {
   "cell_type": "code",
   "execution_count": 297,
   "metadata": {},
   "outputs": [],
   "source": [
    "# Create an SVM classifier with a suitable kernel\n",
    "clf = SVC(kernel='rbf', C=1.0, gamma='scale')  # RBF kernel often works well"
   ]
  },
  {
   "cell_type": "code",
   "execution_count": 298,
   "metadata": {},
   "outputs": [
    {
     "data": {
      "text/html": [
       "<style>#sk-container-id-13 {color: black;}#sk-container-id-13 pre{padding: 0;}#sk-container-id-13 div.sk-toggleable {background-color: white;}#sk-container-id-13 label.sk-toggleable__label {cursor: pointer;display: block;width: 100%;margin-bottom: 0;padding: 0.3em;box-sizing: border-box;text-align: center;}#sk-container-id-13 label.sk-toggleable__label-arrow:before {content: \"▸\";float: left;margin-right: 0.25em;color: #696969;}#sk-container-id-13 label.sk-toggleable__label-arrow:hover:before {color: black;}#sk-container-id-13 div.sk-estimator:hover label.sk-toggleable__label-arrow:before {color: black;}#sk-container-id-13 div.sk-toggleable__content {max-height: 0;max-width: 0;overflow: hidden;text-align: left;background-color: #f0f8ff;}#sk-container-id-13 div.sk-toggleable__content pre {margin: 0.2em;color: black;border-radius: 0.25em;background-color: #f0f8ff;}#sk-container-id-13 input.sk-toggleable__control:checked~div.sk-toggleable__content {max-height: 200px;max-width: 100%;overflow: auto;}#sk-container-id-13 input.sk-toggleable__control:checked~label.sk-toggleable__label-arrow:before {content: \"▾\";}#sk-container-id-13 div.sk-estimator input.sk-toggleable__control:checked~label.sk-toggleable__label {background-color: #d4ebff;}#sk-container-id-13 div.sk-label input.sk-toggleable__control:checked~label.sk-toggleable__label {background-color: #d4ebff;}#sk-container-id-13 input.sk-hidden--visually {border: 0;clip: rect(1px 1px 1px 1px);clip: rect(1px, 1px, 1px, 1px);height: 1px;margin: -1px;overflow: hidden;padding: 0;position: absolute;width: 1px;}#sk-container-id-13 div.sk-estimator {font-family: monospace;background-color: #f0f8ff;border: 1px dotted black;border-radius: 0.25em;box-sizing: border-box;margin-bottom: 0.5em;}#sk-container-id-13 div.sk-estimator:hover {background-color: #d4ebff;}#sk-container-id-13 div.sk-parallel-item::after {content: \"\";width: 100%;border-bottom: 1px solid gray;flex-grow: 1;}#sk-container-id-13 div.sk-label:hover label.sk-toggleable__label {background-color: #d4ebff;}#sk-container-id-13 div.sk-serial::before {content: \"\";position: absolute;border-left: 1px solid gray;box-sizing: border-box;top: 0;bottom: 0;left: 50%;z-index: 0;}#sk-container-id-13 div.sk-serial {display: flex;flex-direction: column;align-items: center;background-color: white;padding-right: 0.2em;padding-left: 0.2em;position: relative;}#sk-container-id-13 div.sk-item {position: relative;z-index: 1;}#sk-container-id-13 div.sk-parallel {display: flex;align-items: stretch;justify-content: center;background-color: white;position: relative;}#sk-container-id-13 div.sk-item::before, #sk-container-id-13 div.sk-parallel-item::before {content: \"\";position: absolute;border-left: 1px solid gray;box-sizing: border-box;top: 0;bottom: 0;left: 50%;z-index: -1;}#sk-container-id-13 div.sk-parallel-item {display: flex;flex-direction: column;z-index: 1;position: relative;background-color: white;}#sk-container-id-13 div.sk-parallel-item:first-child::after {align-self: flex-end;width: 50%;}#sk-container-id-13 div.sk-parallel-item:last-child::after {align-self: flex-start;width: 50%;}#sk-container-id-13 div.sk-parallel-item:only-child::after {width: 0;}#sk-container-id-13 div.sk-dashed-wrapped {border: 1px dashed gray;margin: 0 0.4em 0.5em 0.4em;box-sizing: border-box;padding-bottom: 0.4em;background-color: white;}#sk-container-id-13 div.sk-label label {font-family: monospace;font-weight: bold;display: inline-block;line-height: 1.2em;}#sk-container-id-13 div.sk-label-container {text-align: center;}#sk-container-id-13 div.sk-container {/* jupyter's `normalize.less` sets `[hidden] { display: none; }` but bootstrap.min.css set `[hidden] { display: none !important; }` so we also need the `!important` here to be able to override the default hidden behavior on the sphinx rendered scikit-learn.org. See: https://github.com/scikit-learn/scikit-learn/issues/21755 */display: inline-block !important;position: relative;}#sk-container-id-13 div.sk-text-repr-fallback {display: none;}</style><div id=\"sk-container-id-13\" class=\"sk-top-container\"><div class=\"sk-text-repr-fallback\"><pre>SVC()</pre><b>In a Jupyter environment, please rerun this cell to show the HTML representation or trust the notebook. <br />On GitHub, the HTML representation is unable to render, please try loading this page with nbviewer.org.</b></div><div class=\"sk-container\" hidden><div class=\"sk-item\"><div class=\"sk-estimator sk-toggleable\"><input class=\"sk-toggleable__control sk-hidden--visually\" id=\"sk-estimator-id-13\" type=\"checkbox\" checked><label for=\"sk-estimator-id-13\" class=\"sk-toggleable__label sk-toggleable__label-arrow\">SVC</label><div class=\"sk-toggleable__content\"><pre>SVC()</pre></div></div></div></div></div>"
      ],
      "text/plain": [
       "SVC()"
      ]
     },
     "execution_count": 298,
     "metadata": {},
     "output_type": "execute_result"
    }
   ],
   "source": [
    "# Fit the classifier on the training data\n",
    "y_train = y_train.ravel()\n",
    "clf.fit(x_train, y_train)"
   ]
  },
  {
   "cell_type": "code",
   "execution_count": 299,
   "metadata": {},
   "outputs": [],
   "source": [
    "# Make predictions on the test data\n",
    "y_pred = clf.predict(x_test)"
   ]
  },
  {
   "cell_type": "code",
   "execution_count": 300,
   "metadata": {},
   "outputs": [
    {
     "name": "stdout",
     "output_type": "stream",
     "text": [
      "Accuracy: 0.844551282051282\n"
     ]
    }
   ],
   "source": [
    "# Evaluate model performance\n",
    "y_test = y_test.ravel()\n",
    "accuracy = clf.score(x_test, y_test)\n",
    "print(\"Accuracy:\", accuracy)"
   ]
  },
  {
   "cell_type": "code",
   "execution_count": 301,
   "metadata": {},
   "outputs": [
    {
     "name": "stdout",
     "output_type": "stream",
     "text": [
      "              precision    recall  f1-score   support\n",
      "\n",
      "           0       0.86      0.70      0.77       234\n",
      "           1       0.84      0.93      0.88       390\n",
      "\n",
      "    accuracy                           0.84       624\n",
      "   macro avg       0.85      0.81      0.83       624\n",
      "weighted avg       0.85      0.84      0.84       624\n",
      "\n"
     ]
    },
    {
     "data": {
      "image/png": "[encoded data removed]",
      "text/plain": [
       "<Figure size 640x480 with 2 Axes>"
      ]
     },
     "metadata": {},
     "output_type": "display_data"
    }
   ],
   "source": [
    "import seaborn as sns\n",
    "from sklearn.metrics import classification_report, confusion_matrix\n",
    "\n",
    "cm = confusion_matrix(y_test,y_pred)\n",
    "sns.heatmap(cm, annot=True, fmt='d').set_title('Confusion matrix of linear SVM') # fmt='d' formats the numbers as digits, which means integers\n",
    "\n",
    "print(classification_report(y_test,y_pred))"
   ]
  },
  {
   "cell_type": "code",
   "execution_count": 302,
   "metadata": {},
   "outputs": [
    {
     "name": "stdout",
     "output_type": "stream",
     "text": [
      "              precision    recall  f1-score   support\n",
      "\n",
      "           0       0.79      0.75      0.77      1214\n",
      "           1       0.91      0.93      0.92      3494\n",
      "\n",
      "    accuracy                           0.89      4708\n",
      "   macro avg       0.85      0.84      0.85      4708\n",
      "weighted avg       0.88      0.89      0.88      4708\n",
      "\n"
     ]
    },
    {
     "data": {
      "image/png": "[encoded data removed]",
      "text/plain": [
       "<Figure size 640x480 with 2 Axes>"
      ]
     },
     "metadata": {},
     "output_type": "display_data"
    }
   ],
   "source": [
    "y_pred_train = clf.predict(x_train)\n",
    "\n",
    "cm_train = confusion_matrix(y_train,y_pred_train)\n",
    "sns.heatmap(cm_train, annot=True, fmt='d').set_title('Confusion matrix of linear SVM with train data')\n",
    "\n",
    "print(classification_report(y_train,y_pred_train))"
   ]
  },
  {
   "cell_type": "code",
   "execution_count": 303,
   "metadata": {},
   "outputs": [
    {
     "name": "stdout",
     "output_type": "stream",
     "text": [
      "[705 705]\n"
     ]
    }
   ],
   "source": [
    "clf.get_params()\n",
    "print(clf.n_support_)"
   ]
  },
  {
   "cell_type": "code",
   "execution_count": 304,
   "metadata": {},
   "outputs": [
    {
     "name": "stdout",
     "output_type": "stream",
     "text": [
      "[ 2.49943624e+00  1.27579262e+00 -1.32018061e+00 -1.72749624e+00\n",
      "  2.59166516e+00  2.20616892e+00  9.97511946e-01  1.82439033e+00\n",
      "  2.13371714e+00  1.68042685e+00  2.85436461e+00  1.70495838e+00\n",
      "  1.87053033e+00  2.27193132e+00  1.48829348e-01  8.78501689e-01\n",
      "  2.90501158e+00  1.19059035e-01  1.69457929e+00  6.46201105e-01\n",
      " -2.40040227e+00  2.26074520e+00  1.70355606e+00  4.77355137e-01\n",
      "  2.35202860e+00 -1.61359165e+00  2.54002042e+00  1.14285346e-02\n",
      " -1.26468764e+00  1.99224730e+00 -1.72780343e+00  5.67907777e-01\n",
      "  1.84951984e+00  3.16802361e+00  2.01098664e+00  1.25282257e+00\n",
      "  2.51156707e-01  1.36057138e+00  1.79985479e-02 -1.08006186e+00\n",
      "  2.32917067e+00 -1.86837315e-02 -2.38468589e+00 -1.14302107e+00\n",
      "  1.02760920e-01  2.35712320e+00 -2.09883863e+00  1.89297021e+00\n",
      "  1.99650068e+00  2.90119192e+00  2.50683699e-01  8.11580681e-01\n",
      " -1.23902655e+00  1.91650259e+00 -1.42065160e+00 -1.01708117e+00\n",
      "  2.14087346e+00 -1.46167935e+00 -2.25575329e+00  1.92587016e+00\n",
      " -2.56430438e+00 -8.04680993e-01 -1.19048147e+00  2.18522175e+00\n",
      "  2.93983615e+00  2.27129130e+00 -1.05801531e-01  1.09640921e-01\n",
      " -1.15154373e-02 -2.38967090e+00  2.30644717e+00  1.25555069e+00\n",
      " -1.12023025e+00  2.96363752e+00  9.31790588e-01  1.86745236e+00\n",
      "  2.02175539e+00 -6.12106268e-01  4.08650510e-01  2.50555635e+00\n",
      "  2.10298164e+00  2.43292487e+00  2.52963849e+00  8.03337599e-01\n",
      " -1.41285290e+00 -1.73557752e-01 -1.19672228e+00 -1.38834375e+00\n",
      "  6.24771393e-01 -1.37973072e+00  2.94471663e+00  2.48256615e+00\n",
      "  1.43069102e+00 -9.52913140e-01  2.64114570e+00  2.39174268e+00\n",
      "  2.82945685e+00 -1.61721529e+00 -9.76957839e-01  1.12166234e+00\n",
      "  1.72751205e+00  2.23484410e+00  9.46691078e-01  2.42654651e+00\n",
      "  3.08901351e+00  1.37643597e+00 -2.17881832e+00 -2.34988945e-01\n",
      "  1.47206379e+00 -3.60152194e-01 -1.28068652e+00  2.35780765e+00\n",
      " -7.13600308e-01  3.02489677e+00 -8.61698232e-02  1.18579005e+00\n",
      " -6.77986637e-01  1.37905835e+00 -1.84620608e-01 -1.64537442e+00\n",
      "  1.39338359e+00  1.58358796e+00 -4.93238006e-01  1.94956967e-01\n",
      "  2.17412879e+00 -8.23833735e-01 -8.16231458e-02  2.24996998e+00\n",
      " -1.46993274e+00 -5.17310561e-01  1.91403890e+00  3.72720424e-01\n",
      "  8.93387725e-01  5.72086967e-01 -7.00208260e-03  1.96650112e+00\n",
      " -8.64341791e-01  2.43863533e+00  2.27623359e+00 -2.51677223e-01\n",
      "  2.60398859e+00  1.73204855e+00  4.16799739e-01 -4.83694206e-01\n",
      " -6.41614933e-01 -1.67098181e+00 -2.90571234e-01 -3.21852989e-01\n",
      "  4.69485755e-01  2.22660020e+00 -1.01879052e+00  3.47270205e+00\n",
      " -7.69762905e-01  2.23126533e+00  2.10470850e+00  2.08401300e+00\n",
      "  3.08885606e+00  2.26466793e+00  1.05791504e+00  1.89089476e+00\n",
      " -9.74569565e-01 -1.37663522e+00  2.06427074e+00  2.41599062e+00\n",
      " -1.81051433e+00  3.41229276e+00 -5.23178116e-01  2.02736704e+00\n",
      "  1.14882718e+00  1.62184492e+00  3.41168461e+00  2.02008726e-01\n",
      "  2.54258257e+00  2.16816634e+00 -1.44512301e-01  2.74567016e+00\n",
      "  7.20651977e-01  1.43624959e+00  2.53097425e+00  7.96739622e-01\n",
      "  2.84392940e-01  4.19106375e-01 -9.80806150e-01  2.62231484e+00\n",
      "  2.49642837e+00 -6.03974226e-02 -3.88156856e-01 -1.47684035e+00\n",
      "  1.58789915e+00 -1.99022652e+00 -9.12546137e-01 -6.61581448e-01\n",
      "  2.61671856e+00  3.50388833e-01 -1.27514342e+00  8.60479472e-01\n",
      "  1.00575186e+00  2.23885894e+00  2.09214486e+00 -2.67151576e-01\n",
      "  1.86875448e+00 -9.39416164e-01  1.53343560e+00  1.39353789e+00\n",
      "  6.26737642e-01  2.07506368e+00  6.44689344e-02  1.65843470e+00\n",
      " -2.03171580e+00  2.78335931e-01 -2.16764600e+00  1.88614167e+00\n",
      "  1.99598451e+00  1.42651463e+00  1.68367375e-01  2.67376921e+00\n",
      "  1.78958845e+00 -1.09302354e+00  1.31838721e+00  2.02180069e+00\n",
      "  6.90939248e-01 -5.92725132e-01  6.00108680e-01  7.33548230e-01\n",
      " -1.00841700e+00  9.79669163e-01 -1.02721273e+00  2.50324176e+00\n",
      "  2.08193660e+00 -7.69008147e-01  2.07307849e+00 -1.08856244e+00\n",
      "  2.31564726e+00  1.92867096e+00 -2.13923721e-02  2.01964517e+00\n",
      " -2.37242607e-02 -4.22654979e-01  2.73010845e+00 -1.50906580e+00\n",
      "  1.00402680e+00  9.96910016e-01  1.23873557e+00 -1.63776946e+00\n",
      "  1.45932848e+00  2.24269606e+00  1.74229349e+00  8.28299771e-01\n",
      " -1.89740413e-01 -2.97863348e-03  1.20531561e+00 -7.06823465e-01\n",
      "  2.36626989e+00  1.28053332e+00 -5.83753482e-02 -1.01767423e+00\n",
      "  3.12641338e+00  2.99594670e+00 -1.40857731e+00 -1.90748586e+00\n",
      "  1.77156758e+00  1.16889603e+00  1.69422719e+00  1.25156407e+00\n",
      " -1.08989540e+00  5.80489107e-01 -1.52337054e+00 -1.23063345e-02\n",
      "  1.70270463e+00  2.18278719e+00  1.29087707e+00  2.17738079e+00\n",
      "  2.54645680e+00 -5.00194135e-01  2.57900375e+00  1.50538949e+00\n",
      "  2.82187830e+00  2.22253336e+00 -4.16218639e-01  8.04907093e-01\n",
      " -3.97727103e-01 -7.85993032e-01  1.06034617e+00  2.72461676e+00\n",
      "  1.54893643e+00 -1.57733585e+00  1.53528638e+00  6.46023714e-01\n",
      "  3.05197956e+00  1.35989021e+00 -3.67392802e-01 -2.90657367e-01\n",
      " -8.94751360e-01 -1.44220835e+00  2.66777246e+00  1.70663063e+00\n",
      "  1.66873139e+00  2.75040180e-01  1.47109698e+00  2.13499666e+00\n",
      "  1.81421789e+00  1.00659928e+00  3.00402258e+00 -4.37142260e-02\n",
      "  2.27255795e+00  1.17074640e+00  2.00889211e+00  1.20492309e+00\n",
      "  9.27426726e-01 -1.29275981e+00 -1.56061339e+00  3.41168461e+00\n",
      "  3.99710319e-01  1.08009837e+00  2.91186937e+00  2.08705373e+00\n",
      "  2.35327189e+00  1.06611294e+00  1.55128842e+00 -1.17100750e+00\n",
      " -1.71883550e+00  2.15485977e+00  2.51770288e+00 -2.20057887e+00\n",
      "  8.66887045e-01  3.43270886e-01  2.05640528e+00  2.53726632e+00\n",
      "  2.33408159e+00  1.53040887e+00 -1.29491285e+00  1.33331631e+00\n",
      "  1.14089883e+00  2.59638655e+00  2.28861121e+00  2.56198664e+00\n",
      "  1.56321786e+00  2.59974171e+00 -9.38950930e-01  2.02859667e+00\n",
      "  2.11029637e+00  2.35723288e+00  2.95206938e+00  2.68203933e+00\n",
      "  2.42914024e+00 -1.83756737e+00  2.81211292e+00  2.15239711e+00\n",
      "  2.97221138e+00 -4.59166515e-01 -5.55510893e-01  2.78676879e+00\n",
      "  2.25264247e+00 -1.63934771e+00 -8.03936529e-01  2.94102156e+00\n",
      "  1.20066478e+00  8.04295368e-01  2.23941795e+00  6.09975260e-02\n",
      "  1.65099051e-02  2.86217915e+00  3.52039053e+00  2.12577198e+00\n",
      "  2.38006102e+00 -3.24531621e-01  1.89460886e+00 -8.75733967e-01\n",
      " -5.41053162e-01  1.51997751e+00  2.28415903e+00  2.52764072e+00\n",
      "  8.92431598e-01  2.02138157e+00  9.04418490e-01 -2.24411323e+00\n",
      " -1.09292062e+00  2.03309174e+00  8.18586403e-01  1.59928166e+00\n",
      "  1.62275132e-01  1.24815004e+00 -1.55315331e+00  1.88668684e+00\n",
      " -2.65809066e-01 -1.56871114e+00  6.12751581e-01  1.71874787e+00\n",
      "  2.34516723e+00  1.17818856e+00 -5.71779335e-02 -5.19017879e-01\n",
      " -1.78163340e+00  5.72695791e-01  1.09496387e+00  1.94137062e+00\n",
      " -1.85501864e+00  2.70477235e+00 -1.00891323e+00 -5.82970265e-03\n",
      "  9.46332862e-01  3.00402258e+00  2.56375731e+00  1.74328443e+00\n",
      "  2.44486793e-02  2.34029473e+00  2.92410468e+00  1.96088192e+00\n",
      " -1.58103294e+00  2.86790922e-01 -4.90289226e-01 -2.01703612e+00\n",
      " -1.79029860e+00  1.85036425e+00 -2.09086698e-01  2.07611843e-01\n",
      "  2.05425396e+00  2.29272315e+00  3.25599219e+00  1.28846872e+00\n",
      "  2.77667641e+00  2.73855394e+00  2.61265150e+00 -1.23913698e+00\n",
      "  1.74673957e+00  2.50675748e+00  2.42130316e+00  1.65750978e+00\n",
      "  8.67238548e-02  2.14605430e-01 -2.38763909e+00  2.65481491e+00\n",
      "  2.23855874e+00 -1.78544688e+00  1.53861982e+00  1.94687679e+00\n",
      "  8.83345837e-01  1.00431485e+00  1.76323875e+00  1.17570586e+00\n",
      "  2.37769320e+00 -1.84232202e+00  1.39353074e+00  1.54674689e+00\n",
      " -1.24649336e+00 -1.11124230e+00  5.29042553e-01  1.40844887e+00\n",
      " -1.82566144e+00  3.01427958e+00 -2.94201578e+00  1.85744447e+00\n",
      "  1.22110214e-01  1.75827658e+00  2.43066192e+00  9.91989293e-01\n",
      "  9.81856261e-01  9.25279878e-01  2.65921210e+00  2.20683817e+00\n",
      " -1.87622982e+00  1.03443943e+00  1.96623704e+00  2.09872008e-01\n",
      "  1.11853071e+00  3.16927325e+00  1.86956424e+00  1.24534016e+00\n",
      "  1.30193918e+00 -6.16448184e-01 -2.86783537e-01 -1.25291098e+00\n",
      " -1.28542675e+00 -1.11980152e+00  3.23682990e+00 -1.33401130e+00\n",
      "  5.44247128e-01  2.52704599e+00  2.18337824e+00  1.92215959e+00\n",
      "  5.14964811e-01 -1.29840799e+00 -1.45766489e+00 -7.08003130e-01\n",
      " -8.70476858e-02 -2.52172853e-01  2.23508850e+00  1.47570189e+00\n",
      "  1.62126735e-01  1.52496368e+00  1.93668468e+00  1.11882975e+00\n",
      "  2.18891550e-01  1.67865668e+00  1.67772501e+00 -7.96593167e-01\n",
      " -2.97648894e+00  3.09473661e+00  1.02980164e+00  2.89966789e+00\n",
      "  2.39651452e+00 -6.81039809e-01 -1.09242099e+00  1.56064213e+00\n",
      "  1.61469466e+00  9.91598421e-01  2.99520856e+00  2.26634538e+00\n",
      "  2.85255602e-01  1.99843667e+00  2.50008718e+00 -1.48337013e+00\n",
      "  2.77746507e+00  1.53983888e+00  3.43791770e-01 -1.53569868e+00\n",
      "  2.16460910e+00 -9.26574059e-01  2.82402927e+00  3.40315365e-01\n",
      "  2.35566727e+00 -8.09679765e-01  9.88570829e-01 -1.79888865e+00\n",
      "  2.32003431e+00  2.58987569e+00  1.14608782e+00 -2.53997267e-01\n",
      "  2.69469703e+00  7.57109202e-01  2.43321478e+00 -8.41721882e-01\n",
      "  1.56427349e+00 -6.56518987e-02  1.34579941e+00  2.47354674e-01\n",
      "  2.25766772e+00  2.05983598e+00  2.37769320e+00  9.02594034e-01\n",
      " -2.64113502e+00  5.96626634e-01 -8.19759700e-01  1.94375330e+00\n",
      "  2.30905436e+00  1.67454192e+00  2.84001798e+00  1.43104024e+00\n",
      " -7.14753783e-01  1.20428296e+00  2.86445149e+00  2.63252074e+00\n",
      "  1.59576177e+00 -1.41485732e+00  2.18336809e+00  2.14846032e+00\n",
      "  1.62624491e-01  2.27830690e+00 -1.37167681e+00  2.78226619e+00\n",
      "  3.21434592e-01  2.12267816e+00  4.46582053e-01  2.78327399e+00\n",
      "  2.75127679e+00 -2.36912466e+00  1.44231007e+00  1.48271523e+00\n",
      "  2.24605109e+00  1.97358747e+00  7.66761225e-01 -9.20693935e-01\n",
      " -7.08034320e-01  1.16158041e+00  2.11806184e+00 -1.31517695e+00\n",
      "  1.99378711e+00 -4.23895483e-01 -1.22412768e+00 -1.40928374e-01\n",
      "  2.08630635e+00  6.86156953e-01  1.64872800e+00  1.69113634e+00\n",
      " -9.48619453e-01  2.23309943e+00  2.59129739e+00  1.93201295e+00\n",
      "  1.22467107e+00 -1.10518525e-01  4.44011515e-01  2.80265594e+00\n",
      "  1.36932278e+00 -7.40362250e-01  2.17719060e+00  5.07534566e-01\n",
      "  1.86984233e+00  1.36049209e+00 -2.23158896e+00 -7.00029940e-01\n",
      "  2.11507681e+00  3.01905485e+00  3.80649193e-01  2.53415354e+00\n",
      "  9.63825912e-02  5.35014610e-01  1.12404900e+00  2.29420413e+00\n",
      "  1.20966964e-01  1.36415809e+00  2.74838508e+00 -3.17021499e-02\n",
      "  2.56991498e+00  4.60227290e-01 -5.51004310e-01  4.44191711e-01\n",
      "  1.79151520e+00  3.06007081e-03  4.40150861e-01 -1.24159446e+00\n",
      " -1.36101745e-01  1.75124606e-01  1.11035837e+00 -2.27616121e+00]\n"
     ]
    }
   ],
   "source": [
    "# get the actual output of SVM\n",
    "decision_function = clf.decision_function(x_test)\n",
    "print(decision_function)"
   ]
  },
  {
   "cell_type": "code",
   "execution_count": 305,
   "metadata": {},
   "outputs": [
    {
     "name": "stdout",
     "output_type": "stream",
     "text": [
      "svc.gamma:  148.40649670865355\n",
      "svc.degree:  3\n"
     ]
    }
   ],
   "source": [
    "import numpy as np\n",
    "print(\"svc.gamma: \", clf._gamma)\n",
    "print(\"svc.degree: \", clf.degree)\n",
    "\n",
    "sv=open(\"../data-kernel-model-rbf/support_vectors_rbf.txt\",\"w\")\n",
    "dual_coeff=open(\"../data-kernel-model-rbf/dual_coeff_rbf.txt\",\"w\")\n",
    "intercept=open(\"../data-kernel-model-rbf/intercept_rbf.txt\",\"w\")\n",
    "xtestSample=\"../data-kernel-model-rbf/xtest_rbf.txt\"\n",
    "ytestSample=\"../data-kernel-model-rbf/ytest_rbf.txt\"\n",
    "ytestClassificationScore=\"../data-kernel-model-rbf/yclassificationscore.txt\"\n",
    "gammaValue=\"../data-kernel-model-rbf/gamma.txt\"\n",
    "\n",
    "np.savetxt(sv,clf.support_vectors_)\n",
    "    \n",
    "np.savetxt(dual_coeff,clf.dual_coef_,delimiter=' ')\n",
    "np.savetxt(intercept,clf.intercept_,delimiter=' ')\n",
    "\n",
    "with open(xtestSample, \"w\") as f1:\n",
    "    for item in x_test[0]:  # Access the first row directly\n",
    "        f1.write(str(item) + \" \")\n",
    "        \n",
    "with open(ytestClassificationScore, \"w\") as f2:\n",
    "    f2.write(str(decision_function[0]))\n",
    "    \n",
    "with open(ytestSample, \"w\") as f3:\n",
    "    f3.write(str(y_test[0]))\n",
    "    \n",
    "with open(gammaValue, \"w\") as f4:\n",
    "    f4.write(str(clf._gamma))\n",
    "    \n",
    "sv.close()\n",
    "dual_coeff.close()\n",
    "intercept.close()\n",
    "f1.close()\n",
    "f2.close()\n",
    "f3.close()\n",
    "f4.close()"
   ]
  },
  {
   "cell_type": "code",
   "execution_count": 306,
   "metadata": {},
   "outputs": [
    {
     "name": "stdout",
     "output_type": "stream",
     "text": [
      "148.40649670865355\n",
      "[2.0162874]\n"
     ]
    }
   ],
   "source": [
    "print(str(clf._gamma))\n",
    "print(str(clf.intercept_))"
   ]
  },
  {
   "cell_type": "code",
   "execution_count": null,
   "metadata": {},
   "outputs": [],
   "source": []
  }
 ],
 "metadata": {
  "kernelspec": {
   "display_name": "Python 3",
   "language": "python",
   "name": "python3"
  },
  "language_info": {
   "codemirror_mode": {
    "name": "ipython",
    "version": 3
   },
   "file_extension": ".py",
   "mimetype": "text/x-python",
   "name": "python",
   "nbconvert_exporter": "python",
   "pygments_lexer": "ipython3",
   "version": "3.10.12"
  }
 },
 "nbformat": 4,
 "nbformat_minor": 2
}
