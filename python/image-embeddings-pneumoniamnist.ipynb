{
 "cells": [
  {
   "cell_type": "code",
   "execution_count": 735,
   "metadata": {},
   "outputs": [],
   "source": [
    "from tqdm import tqdm\n",
    "import numpy as np\n",
    "import torch\n",
    "import torch.nn as nn\n",
    "import torch.optim as optim\n",
    "import torch.utils.data as data\n",
    "import torchvision.transforms as transforms\n",
    "\n",
    "import medmnist\n",
    "from medmnist import INFO, Evaluator"
   ]
  },
  {
   "cell_type": "code",
   "execution_count": 736,
   "metadata": {},
   "outputs": [
    {
     "name": "stdout",
     "output_type": "stream",
     "text": [
      "MedMNIST v2.2.3 @ https://github.com/MedMNIST/MedMNIST/\n"
     ]
    }
   ],
   "source": [
    "print(f\"MedMNIST v{medmnist.__version__} @ {medmnist.HOMEPAGE}\")"
   ]
  },
  {
   "cell_type": "code",
   "execution_count": 737,
   "metadata": {},
   "outputs": [],
   "source": [
    "data_flag = 'pneumoniamnist'\n",
    "#data_flag = 'pathmnist'\n",
    "#data_flag = 'breastmnist'\n",
    "download = True\n",
    "\n",
    "NUM_EPOCHS = 50\n",
    "BATCH_SIZE = 32\n",
    "lr = 0.001\n",
    "\n",
    "info = INFO[data_flag]\n",
    "task = info['task']\n",
    "n_channels = info['n_channels']\n",
    "n_classes = len(info['label'])\n",
    "\n",
    "DataClass = getattr(medmnist, info['python_class'])"
   ]
  },
  {
   "cell_type": "code",
   "execution_count": 738,
   "metadata": {},
   "outputs": [
    {
     "name": "stdout",
     "output_type": "stream",
     "text": [
      "Using downloaded and verified file: /home/caesar/.medmnist/pneumoniamnist.npz\n",
      "Using downloaded and verified file: /home/caesar/.medmnist/pneumoniamnist.npz\n",
      "Using downloaded and verified file: /home/caesar/.medmnist/pneumoniamnist.npz\n"
     ]
    }
   ],
   "source": [
    "# preprocessing\n",
    "data_transform = transforms.Compose([\n",
    "    transforms.ToTensor(),\n",
    "    transforms.Normalize(mean=[.5], std=[.5])\n",
    "])\n",
    "\n",
    "# load the data\n",
    "train_dataset = DataClass(split='train', transform=data_transform, download=download)\n",
    "test_dataset = DataClass(split='test', transform=data_transform, download=download)\n",
    "\n",
    "pil_dataset = DataClass(split='train', download=download)"
   ]
  },
  {
   "cell_type": "code",
   "execution_count": 739,
   "metadata": {},
   "outputs": [
    {
     "name": "stdout",
     "output_type": "stream",
     "text": [
      "Dataset PneumoniaMNIST (pneumoniamnist)\n",
      "    Number of datapoints: 4708\n",
      "    Root location: /home/caesar/.medmnist\n",
      "    Split: train\n",
      "    Task: binary-class\n",
      "    Number of channels: 1\n",
      "    Meaning of labels: {'0': 'normal', '1': 'pneumonia'}\n",
      "    Number of samples: {'train': 4708, 'val': 524, 'test': 624}\n",
      "    Description: The PneumoniaMNIST is based on a prior dataset of 5,856 pediatric chest X-Ray images. The task is binary-class classification of pneumonia against normal. We split the source training set with a ratio of 9:1 into training and validation set and use its source validation set as the test set. The source images are gray-scale, and their sizes are (384−2,916)×(127−2,713). We center-crop the images and resize them into 1×28×28.\n",
      "    License: CC BY 4.0\n"
     ]
    }
   ],
   "source": [
    "print(train_dataset)"
   ]
  },
  {
   "cell_type": "code",
   "execution_count": 740,
   "metadata": {},
   "outputs": [],
   "source": [
    "import keras\n",
    "from keras.datasets import mnist\n",
    "from keras.models import Sequential\n",
    "from keras.layers import Conv2D, MaxPooling2D, Flatten, Dense, Dropout\n",
    "\n",
    "EMBEDDING_LEN = 16\n",
    "\n",
    "# Load MNIST dataset\n",
    "(x_train, y_train) = (train_dataset.imgs, train_dataset.labels)\n",
    "(x_test, y_test) = (test_dataset.imgs, test_dataset.labels)"
   ]
  },
  {
   "cell_type": "code",
   "execution_count": 741,
   "metadata": {},
   "outputs": [
    {
     "name": "stdout",
     "output_type": "stream",
     "text": [
      "(4708, 28, 28)\n",
      "(4708, 1)\n"
     ]
    }
   ],
   "source": [
    "print(x_train.shape)\n",
    "print(y_train.shape)"
   ]
  },
  {
   "cell_type": "code",
   "execution_count": 742,
   "metadata": {},
   "outputs": [],
   "source": [
    "# Preprocess images\n",
    "x_train = x_train.reshape(-1, 28, 28, 1).astype('float32') / 255.0\n",
    "x_test = x_test.reshape(-1, 28, 28, 1).astype('float32') / 255.0\n",
    "\n",
    "# Get the user-specified embedding length\n",
    "embedding_length = EMBEDDING_LEN\n",
    "\n",
    "# Define a CNN model with variable embedding length\n",
    "# model = Sequential([\n",
    "#     Conv2D(32, (3, 3), activation='relu', input_shape=(28, 28, 1)),\n",
    "#     MaxPooling2D((2, 2)),\n",
    "#     Flatten(),\n",
    "#     Dense(embedding_length, activation='relu'),  # Embedding layer with variable length\n",
    "# ])  # Remove the final classification layer\n",
    "\n",
    "model = Sequential([\n",
    "    # Initial convolutional block\n",
    "    Conv2D(32, (3, 3), activation='relu', input_shape=(28, 28, 1)),\n",
    "    Conv2D(32, (3, 3), activation='relu'),\n",
    "    MaxPooling2D((2, 2)),\n",
    "\n",
    "    # Second convolutional block for deeper feature extraction\n",
    "    Conv2D(64, (3, 3), activation='relu'),\n",
    "    Conv2D(64, (3, 3), activation='relu'),\n",
    "    MaxPooling2D((2, 2)),\n",
    "\n",
    "    # Flatten and dense layers\n",
    "    Flatten(),\n",
    "    Dense(128, activation='relu'),\n",
    "    Dropout(0.5),  # Regularization to prevent overfitting\n",
    "    Dense(embedding_length, activation='relu')  # Variable-length embedding layer\n",
    "])"
   ]
  },
  {
   "cell_type": "code",
   "execution_count": 743,
   "metadata": {},
   "outputs": [],
   "source": [
    "# Compile the model (important for generating meaningful embeddings)\n",
    "model.compile(optimizer='adam', loss='categorical_crossentropy', metrics=['accuracy'])"
   ]
  },
  {
   "cell_type": "code",
   "execution_count": 744,
   "metadata": {},
   "outputs": [
    {
     "name": "stdout",
     "output_type": "stream",
     "text": [
      "148/148 [==============================] - 0s 2ms/step\n",
      "(4708, 16)\n"
     ]
    }
   ],
   "source": [
    "# Extract embeddings for all images in the training set\n",
    "embeddings_train = model.predict(x_train)\n",
    "print(embeddings_train.shape)  # Output: (60000, embedding_length)"
   ]
  },
  {
   "cell_type": "code",
   "execution_count": 745,
   "metadata": {},
   "outputs": [
    {
     "name": "stdout",
     "output_type": "stream",
     "text": [
      "20/20 [==============================] - 0s 2ms/step\n",
      "(624, 16)\n"
     ]
    }
   ],
   "source": [
    "# Optionally, extract embeddings for test images\n",
    "embeddings_test = model.predict(x_test)\n",
    "print(embeddings_test.shape)  # Output: (10000, embedding_length)"
   ]
  },
  {
   "cell_type": "code",
   "execution_count": 746,
   "metadata": {},
   "outputs": [
    {
     "name": "stdout",
     "output_type": "stream",
     "text": [
      "(4708, 28, 28, 1)\n",
      "(4708, 1)\n",
      "(624, 28, 28, 1)\n",
      "(624, 1)\n"
     ]
    }
   ],
   "source": [
    "print(x_train.shape)\n",
    "print(y_train.shape)\n",
    "print(x_test.shape)\n",
    "print(y_test.shape)\n",
    "#(, y_train), (x_test, y_test)"
   ]
  },
  {
   "cell_type": "code",
   "execution_count": 747,
   "metadata": {},
   "outputs": [],
   "source": [
    "import numpy as np\n",
    "from sklearn.svm import SVC"
   ]
  },
  {
   "cell_type": "code",
   "execution_count": 748,
   "metadata": {},
   "outputs": [],
   "source": [
    "# Load your dataset (assuming it's in NumPy arrays)\n",
    "x_train = embeddings_train\n",
    "y_train = y_train\n",
    "x_test = embeddings_test\n",
    "y_test = y_test"
   ]
  },
  {
   "cell_type": "code",
   "execution_count": 749,
   "metadata": {},
   "outputs": [],
   "source": [
    "# Create an SVM classifier with a suitable kernel\n",
    "clf = SVC(kernel='rbf', C=1.0, gamma='scale')  # RBF kernel often works well"
   ]
  },
  {
   "cell_type": "code",
   "execution_count": 750,
   "metadata": {},
   "outputs": [
    {
     "data": {
      "text/html": [
       "<style>#sk-container-id-41 {color: black;}#sk-container-id-41 pre{padding: 0;}#sk-container-id-41 div.sk-toggleable {background-color: white;}#sk-container-id-41 label.sk-toggleable__label {cursor: pointer;display: block;width: 100%;margin-bottom: 0;padding: 0.3em;box-sizing: border-box;text-align: center;}#sk-container-id-41 label.sk-toggleable__label-arrow:before {content: \"▸\";float: left;margin-right: 0.25em;color: #696969;}#sk-container-id-41 label.sk-toggleable__label-arrow:hover:before {color: black;}#sk-container-id-41 div.sk-estimator:hover label.sk-toggleable__label-arrow:before {color: black;}#sk-container-id-41 div.sk-toggleable__content {max-height: 0;max-width: 0;overflow: hidden;text-align: left;background-color: #f0f8ff;}#sk-container-id-41 div.sk-toggleable__content pre {margin: 0.2em;color: black;border-radius: 0.25em;background-color: #f0f8ff;}#sk-container-id-41 input.sk-toggleable__control:checked~div.sk-toggleable__content {max-height: 200px;max-width: 100%;overflow: auto;}#sk-container-id-41 input.sk-toggleable__control:checked~label.sk-toggleable__label-arrow:before {content: \"▾\";}#sk-container-id-41 div.sk-estimator input.sk-toggleable__control:checked~label.sk-toggleable__label {background-color: #d4ebff;}#sk-container-id-41 div.sk-label input.sk-toggleable__control:checked~label.sk-toggleable__label {background-color: #d4ebff;}#sk-container-id-41 input.sk-hidden--visually {border: 0;clip: rect(1px 1px 1px 1px);clip: rect(1px, 1px, 1px, 1px);height: 1px;margin: -1px;overflow: hidden;padding: 0;position: absolute;width: 1px;}#sk-container-id-41 div.sk-estimator {font-family: monospace;background-color: #f0f8ff;border: 1px dotted black;border-radius: 0.25em;box-sizing: border-box;margin-bottom: 0.5em;}#sk-container-id-41 div.sk-estimator:hover {background-color: #d4ebff;}#sk-container-id-41 div.sk-parallel-item::after {content: \"\";width: 100%;border-bottom: 1px solid gray;flex-grow: 1;}#sk-container-id-41 div.sk-label:hover label.sk-toggleable__label {background-color: #d4ebff;}#sk-container-id-41 div.sk-serial::before {content: \"\";position: absolute;border-left: 1px solid gray;box-sizing: border-box;top: 0;bottom: 0;left: 50%;z-index: 0;}#sk-container-id-41 div.sk-serial {display: flex;flex-direction: column;align-items: center;background-color: white;padding-right: 0.2em;padding-left: 0.2em;position: relative;}#sk-container-id-41 div.sk-item {position: relative;z-index: 1;}#sk-container-id-41 div.sk-parallel {display: flex;align-items: stretch;justify-content: center;background-color: white;position: relative;}#sk-container-id-41 div.sk-item::before, #sk-container-id-41 div.sk-parallel-item::before {content: \"\";position: absolute;border-left: 1px solid gray;box-sizing: border-box;top: 0;bottom: 0;left: 50%;z-index: -1;}#sk-container-id-41 div.sk-parallel-item {display: flex;flex-direction: column;z-index: 1;position: relative;background-color: white;}#sk-container-id-41 div.sk-parallel-item:first-child::after {align-self: flex-end;width: 50%;}#sk-container-id-41 div.sk-parallel-item:last-child::after {align-self: flex-start;width: 50%;}#sk-container-id-41 div.sk-parallel-item:only-child::after {width: 0;}#sk-container-id-41 div.sk-dashed-wrapped {border: 1px dashed gray;margin: 0 0.4em 0.5em 0.4em;box-sizing: border-box;padding-bottom: 0.4em;background-color: white;}#sk-container-id-41 div.sk-label label {font-family: monospace;font-weight: bold;display: inline-block;line-height: 1.2em;}#sk-container-id-41 div.sk-label-container {text-align: center;}#sk-container-id-41 div.sk-container {/* jupyter's `normalize.less` sets `[hidden] { display: none; }` but bootstrap.min.css set `[hidden] { display: none !important; }` so we also need the `!important` here to be able to override the default hidden behavior on the sphinx rendered scikit-learn.org. See: https://github.com/scikit-learn/scikit-learn/issues/21755 */display: inline-block !important;position: relative;}#sk-container-id-41 div.sk-text-repr-fallback {display: none;}</style><div id=\"sk-container-id-41\" class=\"sk-top-container\"><div class=\"sk-text-repr-fallback\"><pre>SVC()</pre><b>In a Jupyter environment, please rerun this cell to show the HTML representation or trust the notebook. <br />On GitHub, the HTML representation is unable to render, please try loading this page with nbviewer.org.</b></div><div class=\"sk-container\" hidden><div class=\"sk-item\"><div class=\"sk-estimator sk-toggleable\"><input class=\"sk-toggleable__control sk-hidden--visually\" id=\"sk-estimator-id-41\" type=\"checkbox\" checked><label for=\"sk-estimator-id-41\" class=\"sk-toggleable__label sk-toggleable__label-arrow\">SVC</label><div class=\"sk-toggleable__content\"><pre>SVC()</pre></div></div></div></div></div>"
      ],
      "text/plain": [
       "SVC()"
      ]
     },
     "execution_count": 750,
     "metadata": {},
     "output_type": "execute_result"
    }
   ],
   "source": [
    "# Fit the classifier on the training data\n",
    "y_train = y_train.ravel()\n",
    "clf.fit(x_train, y_train)"
   ]
  },
  {
   "cell_type": "code",
   "execution_count": 751,
   "metadata": {},
   "outputs": [],
   "source": [
    "# Make predictions on the test data\n",
    "y_pred = clf.predict(x_test)"
   ]
  },
  {
   "cell_type": "code",
   "execution_count": 752,
   "metadata": {},
   "outputs": [
    {
     "name": "stdout",
     "output_type": "stream",
     "text": [
      "Accuracy: 0.8509615384615384\n"
     ]
    }
   ],
   "source": [
    "# Evaluate model performance\n",
    "y_test = y_test.ravel()\n",
    "accuracy = clf.score(x_test, y_test)\n",
    "print(\"Accuracy:\", accuracy)"
   ]
  },
  {
   "cell_type": "code",
   "execution_count": 753,
   "metadata": {},
   "outputs": [
    {
     "name": "stdout",
     "output_type": "stream",
     "text": [
      "              precision    recall  f1-score   support\n",
      "\n",
      "           0       0.87      0.71      0.78       234\n",
      "           1       0.84      0.93      0.89       390\n",
      "\n",
      "    accuracy                           0.85       624\n",
      "   macro avg       0.85      0.82      0.83       624\n",
      "weighted avg       0.85      0.85      0.85       624\n",
      "\n"
     ]
    },
    {
     "data": {
      "image/png": "[encoded data removed]",
      "text/plain": [
       "<Figure size 640x480 with 2 Axes>"
      ]
     },
     "metadata": {},
     "output_type": "display_data"
    }
   ],
   "source": [
    "import seaborn as sns\n",
    "from sklearn.metrics import classification_report, confusion_matrix\n",
    "\n",
    "cm = confusion_matrix(y_test,y_pred)\n",
    "sns.heatmap(cm, annot=True, fmt='d').set_title('Confusion matrix of linear SVM') # fmt='d' formats the numbers as digits, which means integers\n",
    "\n",
    "print(classification_report(y_test,y_pred))"
   ]
  },
  {
   "cell_type": "code",
   "execution_count": 754,
   "metadata": {},
   "outputs": [
    {
     "name": "stdout",
     "output_type": "stream",
     "text": [
      "              precision    recall  f1-score   support\n",
      "\n",
      "           0       0.81      0.77      0.79      1214\n",
      "           1       0.92      0.94      0.93      3494\n",
      "\n",
      "    accuracy                           0.89      4708\n",
      "   macro avg       0.87      0.85      0.86      4708\n",
      "weighted avg       0.89      0.89      0.89      4708\n",
      "\n"
     ]
    },
    {
     "data": {
      "image/png": "[encoded data removed]",
      "text/plain": [
       "<Figure size 640x480 with 2 Axes>"
      ]
     },
     "metadata": {},
     "output_type": "display_data"
    }
   ],
   "source": [
    "y_pred_train = clf.predict(x_train)\n",
    "\n",
    "cm_train = confusion_matrix(y_train,y_pred_train)\n",
    "sns.heatmap(cm_train, annot=True, fmt='d').set_title('Confusion matrix of linear SVM with train data')\n",
    "\n",
    "print(classification_report(y_train,y_pred_train))"
   ]
  },
  {
   "cell_type": "code",
   "execution_count": 755,
   "metadata": {},
   "outputs": [
    {
     "name": "stdout",
     "output_type": "stream",
     "text": [
      "[704 705]\n"
     ]
    }
   ],
   "source": [
    "clf.get_params()\n",
    "print(clf.n_support_)"
   ]
  },
  {
   "cell_type": "code",
   "execution_count": 756,
   "metadata": {},
   "outputs": [
    {
     "name": "stdout",
     "output_type": "stream",
     "text": [
      "[ 1.93600543e+00  1.79680535e+00 -8.10756587e-01 -1.58560284e+00\n",
      "  2.73250099e+00  2.76971805e+00  1.46715137e+00  2.55914243e+00\n",
      "  2.29735501e+00  6.29887604e-01  3.20853180e+00  1.81880435e+00\n",
      "  1.44131661e+00  2.52478577e+00 -3.93593204e-01  1.08152927e+00\n",
      "  3.55756101e+00 -7.24774744e-01  2.44357484e+00  3.35167127e-01\n",
      "  1.08590013e-01  2.51525667e+00  1.42704048e+00  3.58529913e-01\n",
      "  1.49420063e+00 -2.03206833e+00  2.38191375e+00 -1.30165884e+00\n",
      " -4.50141899e-01  2.81045502e+00 -1.33121336e+00  1.31382901e+00\n",
      "  2.56417630e+00  2.70552254e+00  2.57583989e+00  6.78827734e-01\n",
      " -1.25689523e+00  1.42905517e+00  6.47002427e-01  1.68316541e-01\n",
      "  2.67223222e+00 -5.39688786e-01 -2.07933069e+00 -1.71943863e+00\n",
      "  2.20761080e-01  2.53330016e+00 -9.47659874e-01  2.52071943e+00\n",
      "  1.66889133e+00  1.41949785e+00  5.31901898e-01  1.64852180e+00\n",
      " -1.01247975e+00  2.88348737e+00 -1.41967532e+00 -1.47322329e+00\n",
      "  1.18167367e+00 -1.85844331e+00 -1.84050776e+00  1.63598790e+00\n",
      " -1.95818574e+00 -1.20992986e+00 -1.41096257e+00  3.13034186e+00\n",
      "  2.83411412e+00  2.82198414e+00 -5.79293816e-01  1.31658774e-01\n",
      "  2.13724879e-01 -1.86435707e+00  2.55946236e+00  7.67756530e-01\n",
      " -1.00635842e-01  2.69707030e+00  1.64409814e+00  1.92277032e+00\n",
      "  1.09320152e+00 -1.39516301e+00 -2.63472813e-01  2.09569924e+00\n",
      "  1.93065784e+00  2.34279143e+00  1.89514279e+00 -3.44130130e-01\n",
      " -1.96708650e+00 -8.33545331e-02 -1.08927601e+00 -3.31528071e-02\n",
      " -1.37174885e+00 -1.71652145e+00  2.48450710e+00  2.22660624e+00\n",
      "  2.67577921e+00 -1.28480851e+00  2.93105978e+00  2.80680747e+00\n",
      "  2.33491265e+00 -1.34901597e+00 -8.50563924e-01  6.47960181e-01\n",
      "  2.31640955e+00  2.16806736e+00  1.94237585e+00  2.94031466e+00\n",
      "  2.93038635e+00  2.03687128e+00 -1.83070831e+00 -3.21570631e-01\n",
      "  1.27840108e+00 -1.33716014e+00 -1.72343227e+00  2.14572945e+00\n",
      " -5.87672307e-01  2.17311116e+00 -3.19096732e-01  7.58773021e-01\n",
      "  5.24582758e-01  4.93297823e-01  1.45174555e-02 -8.71907664e-01\n",
      "  1.29356290e+00  1.62433606e+00  3.47269732e-01  2.77032868e-01\n",
      "  3.35037558e+00 -4.40437155e-01 -1.14830266e+00  3.06102388e+00\n",
      " -1.49541267e+00 -5.52501806e-02  1.99698243e+00 -1.70580432e-01\n",
      "  7.52534412e-01  1.86969674e+00  1.96228135e-01  2.57692075e+00\n",
      " -3.32439186e-01  2.64437719e+00  2.49456095e+00 -7.69116749e-01\n",
      "  2.32633168e+00  1.56079714e+00 -3.57712266e-01 -3.87922532e-01\n",
      " -1.64476199e+00 -7.72335337e-01 -1.32180842e+00 -1.91048143e-01\n",
      " -8.54057903e-01  2.50663021e+00 -1.06626416e+00  2.82100274e+00\n",
      " -4.04104509e-01  1.54924416e+00  2.46293008e+00  2.86903747e+00\n",
      "  2.99824115e+00  1.74867920e+00  1.57319315e+00  2.04235514e+00\n",
      " -1.13240902e+00 -1.14374649e+00  2.85563914e+00  2.52776967e+00\n",
      " -1.40743042e+00  3.22771396e+00  1.89090384e-01  1.93912650e+00\n",
      " -4.05681001e-01  1.57562501e+00  2.74053319e+00  8.31057577e-01\n",
      "  2.80353393e+00  2.54560046e+00 -1.04074506e+00  2.66918113e+00\n",
      " -5.05208545e-01  9.10470770e-01  1.43773761e+00  5.34628359e-01\n",
      "  4.40794857e-01  7.79337575e-01  3.11623779e-01  2.35155272e+00\n",
      "  3.03109230e+00  1.79836254e-01  2.64887645e-01 -1.73059175e+00\n",
      "  2.25202196e+00 -1.71589423e+00 -5.50261615e-01 -1.03319947e+00\n",
      "  1.20072016e+00  1.72244515e+00 -1.21451837e+00  1.81221077e+00\n",
      "  3.83086273e-02  2.64244481e+00  2.46950223e+00  5.22382844e-02\n",
      "  1.32932826e+00 -1.13022902e+00  2.17230154e+00  2.33760694e+00\n",
      "  3.24380862e-01  2.34601424e-01 -3.41228939e-01  1.90664901e+00\n",
      " -1.33255632e+00  1.02443058e+00 -9.37792028e-01  2.89551208e+00\n",
      "  2.67341731e+00  1.67235903e+00  6.66472749e-01  2.52054672e+00\n",
      "  2.31794831e+00 -6.59552417e-01  1.06405647e+00  2.48675951e+00\n",
      "  6.84577050e-01 -9.11924056e-01 -1.35530691e-01  7.84004266e-01\n",
      " -1.09442330e+00  1.88912754e+00  1.72791530e-01  3.29024019e+00\n",
      "  1.31738478e+00 -6.82919257e-01  2.23140679e+00 -6.38800425e-01\n",
      "  1.01418956e+00  1.63206165e+00 -1.10281217e+00  1.53967878e+00\n",
      " -9.41995939e-01 -1.08398697e+00  2.48543907e+00 -1.72904314e+00\n",
      "  3.94912255e-01  1.19582670e+00  1.06098696e+00 -1.05967385e+00\n",
      "  2.01644903e+00  2.41839826e+00  8.25592399e-01  1.89364013e+00\n",
      "  9.83165064e-01  9.73089870e-01  1.87239946e+00 -8.70883516e-01\n",
      "  2.34536169e+00  1.06417587e+00  2.14000752e-01 -1.36950040e+00\n",
      "  2.05999693e+00  1.93132664e+00 -3.37605670e-01 -1.80643772e+00\n",
      "  1.58417304e+00  1.18058850e+00  1.35053080e+00  2.17651918e+00\n",
      " -1.14658647e+00  1.34132457e+00 -5.81311344e-01 -1.45368581e+00\n",
      "  2.61696367e+00  2.70110188e+00  7.94981564e-01  2.33142410e+00\n",
      "  3.41093851e+00 -1.26222686e+00  2.11979768e+00  1.40959075e+00\n",
      "  3.33637316e+00  2.22440715e+00 -1.29591987e+00  6.11368192e-01\n",
      " -1.78880118e-01 -9.16758244e-01  1.42579357e+00  2.90076960e+00\n",
      "  1.51173253e+00 -5.88212831e-01  2.71939198e+00  1.87898008e+00\n",
      "  1.61341615e+00  1.17941940e+00 -1.33447699e+00 -4.03329201e-01\n",
      " -1.53565522e+00 -1.45400541e+00  1.31105120e+00  5.34408832e-01\n",
      "  3.09597322e+00 -3.05340226e-01  4.55730108e-01  1.56918207e+00\n",
      "  3.19931232e+00  1.60452494e+00  2.73801386e+00 -9.71175662e-01\n",
      "  1.90559644e+00  1.93967720e+00  2.76844290e+00  6.45163660e-01\n",
      "  1.59166021e+00 -1.61644505e+00 -1.41727780e+00  2.74053319e+00\n",
      "  1.08898283e+00  3.85921938e-01  1.46199342e+00  2.46863710e+00\n",
      "  2.72534320e+00  1.14950334e+00  9.77059867e-01 -1.10389314e+00\n",
      " -9.27819162e-01  2.51803106e+00  3.17401480e+00 -1.89723508e+00\n",
      "  8.83037956e-01  1.52037340e+00  1.60930716e+00  2.83917390e+00\n",
      "  1.37938964e+00  2.09664689e+00 -1.50043803e+00  1.02728594e+00\n",
      "  4.05437721e-01  2.64724052e+00  1.91256086e+00  2.17510197e+00\n",
      "  2.40991965e+00  1.47581339e+00 -1.67774096e-01  5.06951045e-01\n",
      "  1.91533061e+00  2.74650164e+00  3.04214186e+00  1.56381716e+00\n",
      "  1.83832566e+00 -1.76236353e+00  3.00860758e+00  2.39131647e+00\n",
      "  2.96560893e+00  2.83410728e-01 -1.31573547e+00  3.17578487e+00\n",
      "  2.21255552e+00 -1.05716106e+00 -1.56153182e+00  3.11491018e+00\n",
      "  1.81311496e+00  7.38900609e-01  2.43604415e+00  1.69766842e+00\n",
      "  6.16011203e-01  2.89985044e+00  2.76331594e+00  1.47717711e+00\n",
      "  2.41734560e+00 -7.74316755e-02  9.33633321e-01 -1.21155129e+00\n",
      "  1.29527301e-01  1.51504620e+00  2.20715873e+00  1.62998841e+00\n",
      "  2.21791061e-01  1.16883149e+00  1.42730147e+00 -1.13152776e+00\n",
      " -1.84206518e+00  4.74819600e-01  8.90001684e-01  7.44915706e-01\n",
      "  3.60618231e-01  8.42368074e-01 -6.68179430e-01  1.78012554e+00\n",
      " -7.62549380e-01 -1.75252200e+00 -2.68070173e-01  2.87587256e+00\n",
      "  2.73990267e+00  1.44066190e+00  2.73757890e-01 -8.95998892e-01\n",
      " -9.74036948e-01  7.86450914e-01  1.14143390e+00  1.99082787e+00\n",
      " -1.34055121e+00  1.79652043e+00 -3.20546555e-02  5.80171587e-01\n",
      "  1.61544902e+00  2.73801386e+00  2.69245306e+00  7.32534658e-01\n",
      "  7.05650670e-01  1.68193273e+00  1.63503490e+00  2.89110753e+00\n",
      " -1.70317473e+00  1.70309256e+00 -1.20081534e+00 -1.80638934e+00\n",
      " -1.72205773e+00  2.03860471e+00  3.53665797e-03  9.19956353e-01\n",
      "  1.42195843e+00  2.47835646e+00  3.13689066e+00  3.64284105e-01\n",
      "  2.36689586e+00  2.06991509e+00  2.62790813e+00 -3.23736884e-01\n",
      "  2.14020647e+00  2.63351922e+00  2.01176145e+00  5.05526613e-01\n",
      " -4.66909464e-01  5.14563440e-01 -1.78735012e+00  2.40421850e+00\n",
      "  2.59400552e+00 -9.99920569e-01  3.82666095e-01  2.01682813e+00\n",
      "  7.92502943e-01  1.41255400e+00  1.25604257e+00  2.55103745e+00\n",
      "  2.49206431e+00 -1.60035429e+00  2.19647105e+00  2.78017322e+00\n",
      " -1.38758926e+00 -1.00666348e+00  7.40328687e-01  1.26687880e+00\n",
      " -1.44753653e+00  2.59176861e+00 -1.51793904e+00  2.11592608e+00\n",
      "  1.19932492e+00  1.28910185e+00  2.55774240e+00  1.33559345e+00\n",
      "  1.51499254e+00  4.62144599e-01  2.73174288e+00  1.68440409e+00\n",
      " -1.79083553e+00  1.29679480e+00  2.59746387e+00  3.55185217e-01\n",
      "  1.39870530e+00  2.56658807e+00  1.04011297e+00  1.66518587e+00\n",
      "  2.14762207e+00 -1.43393165e+00 -9.92384575e-01 -1.59813985e+00\n",
      " -1.79836804e+00 -1.77236702e+00  3.01868233e+00 -1.33874917e+00\n",
      "  1.35747339e+00  2.42835693e+00  2.12551801e+00  2.35916222e+00\n",
      "  1.66493977e+00 -8.50980959e-01 -1.09614761e+00 -7.19762864e-01\n",
      " -1.08970415e+00 -9.41788411e-01  1.59434593e+00 -2.93758787e-01\n",
      "  9.55358262e-01  1.88128237e+00  7.77653830e-01  2.84644911e-01\n",
      "  1.77684416e-01  2.35588140e+00  2.28788824e+00 -3.26403471e-01\n",
      " -1.98194682e+00  1.53857694e+00  1.05873297e+00  2.66682179e+00\n",
      "  3.35209841e+00 -1.36572643e+00 -1.66871890e+00  1.69067844e+00\n",
      "  2.07024833e+00 -7.13184622e-01  3.41729652e+00  2.53399129e+00\n",
      "  4.03966017e-01  2.59382153e+00  2.59297132e+00 -1.73908773e+00\n",
      "  1.25575505e+00  1.58712249e+00  5.59139675e-01 -1.23098667e+00\n",
      "  2.71680810e+00 -1.14552819e+00  3.25908996e+00 -1.10543800e-01\n",
      "  2.65861666e+00 -1.32619283e+00  1.00184233e+00 -1.47551826e+00\n",
      "  2.65267884e+00  2.05183148e+00  9.48804935e-02 -7.18012112e-01\n",
      "  2.38388066e+00  4.38634404e-01  2.69360463e+00 -1.74914759e+00\n",
      "  1.38240374e+00 -7.66956005e-01  1.46128695e+00 -7.20933603e-01\n",
      "  2.62840100e+00  1.80509155e+00  2.49206431e+00  2.12592387e+00\n",
      " -1.01995051e+00  5.74562804e-02 -5.24681514e-01  3.18274975e+00\n",
      "  2.60014870e+00  1.03243923e+00  2.48836820e+00  1.52401945e+00\n",
      " -1.13997480e+00  2.83870665e+00  2.95362247e+00  2.21649179e+00\n",
      "  1.15117155e+00 -1.83779687e+00  2.87937230e+00  1.89513415e+00\n",
      "  8.74547492e-01  1.46470559e+00 -1.54639918e+00  1.94499778e+00\n",
      " -6.94429749e-02  1.38225906e+00  6.18945721e-01  2.87362822e+00\n",
      "  3.13429428e+00 -1.42136401e+00  2.26803651e+00  1.75774351e+00\n",
      "  2.74588711e+00  2.54654394e+00  5.34938127e-01 -1.38922053e-01\n",
      " -4.71841606e-01  1.59441981e+00  2.44565751e+00 -4.59935628e-01\n",
      "  3.17000126e-01  1.16420222e+00 -1.49136376e+00  5.61232876e-02\n",
      "  1.97309162e+00  8.12302276e-01  1.19545897e+00  2.93301302e+00\n",
      " -1.33406752e+00  2.59204436e+00  3.63795895e+00  1.79863568e+00\n",
      "  1.72630786e+00 -1.23023283e-01  5.64916003e-01  2.71066882e+00\n",
      "  7.53815423e-01 -1.24903886e+00  2.16558145e+00 -3.39729074e-01\n",
      "  2.05700696e+00  2.03973684e+00 -7.36920691e-01 -9.40700495e-02\n",
      "  1.03585367e+00  3.40032453e+00 -5.91796003e-01  2.29547149e+00\n",
      "  7.47505587e-02  4.82280439e-01 -1.41281584e-01  3.05434915e+00\n",
      " -1.38591743e+00  1.33972003e+00  2.44700199e+00 -8.52904063e-01\n",
      "  2.03132485e+00  8.13788304e-01 -1.48652096e+00  1.53838570e+00\n",
      "  3.06153070e+00 -5.97475437e-03  6.50223469e-01 -1.30600343e+00\n",
      " -4.46453498e-01  9.09219233e-01  1.88544892e+00 -1.82278092e+00]\n"
     ]
    }
   ],
   "source": [
    "# get the actual output of SVM\n",
    "decision_function = clf.decision_function(x_test)\n",
    "print(decision_function)"
   ]
  },
  {
   "cell_type": "code",
   "execution_count": 757,
   "metadata": {},
   "outputs": [
    {
     "name": "stdout",
     "output_type": "stream",
     "text": [
      "svc.gamma:  scale\n",
      "svc.degree:  3\n"
     ]
    }
   ],
   "source": [
    "import numpy as np\n",
    "print(\"svc.gamma: \", clf.gamma)\n",
    "print(\"svc.degree: \", clf.degree)\n",
    "\n",
    "sv=open(\"../data-kernel-model-rbf/support_vectors_rbf.txt\",\"w\")\n",
    "dual_coeff=open(\"../data-kernel-model-rbf/dual_coeff_rbf.txt\",\"w\")\n",
    "intercept=open(\"../data-kernel-model-rbf/intercept_rbf.txt\",\"w\")\n",
    "xtestSample=\"../data-kernel-model-rbf/xtest_rbf.txt\"\n",
    "ytestSample=\"../data-kernel-model-rbf/ytest_rbf.txt\"\n",
    "ytestClassificationScore=\"../data-kernel-model-rbf/yclassificationscore.txt\"\n",
    "\n",
    "np.savetxt(sv,clf.support_vectors_)\n",
    "    \n",
    "np.savetxt(dual_coeff,clf.dual_coef_,delimiter=' ')\n",
    "np.savetxt(intercept,clf.intercept_,delimiter=' ')\n",
    "\n",
    "with open(xtestSample, \"w\") as f1:\n",
    "    for item in x_test[0]:  # Access the first row directly\n",
    "        f1.write(str(item) + \" \")\n",
    "        \n",
    "with open(ytestClassificationScore, \"w\") as f2:\n",
    "    f2.write(str(decision_function[0]))\n",
    "    \n",
    "with open(ytestSample, \"w\") as f3:\n",
    "    f3.write(str(y_test[0]))\n",
    "    \n",
    "sv.close()\n",
    "dual_coeff.close()\n",
    "intercept.close()\n",
    "f1.close()\n",
    "f2.close()\n",
    "f3.close()"
   ]
  },
  {
   "cell_type": "code",
   "execution_count": null,
   "metadata": {},
   "outputs": [],
   "source": []
  }
 ],
 "metadata": {
  "kernelspec": {
   "display_name": "Python 3",
   "language": "python",
   "name": "python3"
  },
  "language_info": {
   "codemirror_mode": {
    "name": "ipython",
    "version": 3
   },
   "file_extension": ".py",
   "mimetype": "text/x-python",
   "name": "python",
   "nbconvert_exporter": "python",
   "pygments_lexer": "ipython3",
   "version": "3.10.12"
  }
 },
 "nbformat": 4,
 "nbformat_minor": 2
}
